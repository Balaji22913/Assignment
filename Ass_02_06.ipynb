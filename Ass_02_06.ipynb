{
 "cells": [
  {
   "cell_type": "markdown",
   "id": "e53dcd4a-52ab-4a64-b637-a09dc6e48256",
   "metadata": {},
   "source": [
    "Q1. Create a function which will take a list as an argument and return the product of all the numbers\n",
    "after creating a flat list.\n",
    "Use the below-given list as an argument for your function.\n",
    "list1 = [1,2,3,4, [44,55,66, True], False, (34,56,78,89,34), {1,2,3,3,2,1}, {1:34, \"key2\": [55, 67, 78, 89], 4: (45,\n",
    "22, 61, 34)}, [56, 'data science'], 'Machine Learning']"
   ]
  },
  {
   "cell_type": "code",
   "execution_count": 66,
   "id": "b07f13f0-7a49-491f-811e-ffc8cc606d63",
   "metadata": {},
   "outputs": [],
   "source": [
    "def list_product(l):\n",
    "    a = 1\n",
    "    if type(l) == list:\n",
    "        for i in l:\n",
    "            if type(i) == int:\n",
    "                a = a*i\n",
    "            elif type(i) == list:\n",
    "                for j in i:\n",
    "                    if type(j) == int or type(j) == float or type(j) == bool:\n",
    "                        a = a*j\n",
    "                    else:\n",
    "                        continue\n",
    "            elif type(i) == bool:\n",
    "                a = a*i\n",
    "            elif type(i) == set:\n",
    "                for i in s:\n",
    "                    a = a*i\n",
    "            elif type(i) == tuple:\n",
    "                for j in i:\n",
    "                    if type(j) == int or type(j) == float or type(j) == bool:\n",
    "                        a = a*j\n",
    "                    else:\n",
    "                        continue\n",
    "            elif type(i) == dict:\n",
    "                k = i.keys()\n",
    "                v = i.values()\n",
    "                lv = []\n",
    "                lk = []\n",
    "                for i in k:\n",
    "                    lk.append(i)\n",
    "                    for j in lk:\n",
    "                        if type(j) == int or type(j) == float or type(j) == bool:\n",
    "                            a = a*j\n",
    "                        else:\n",
    "                            continue\n",
    "                for i in v:\n",
    "                    lv.append(i)\n",
    "                for j in lv:\n",
    "                        if type(j) == int or type(j) == float or type(j) == bool:\n",
    "                            a = a*j\n",
    "                        elif type(i) == list:\n",
    "                            for j in i:\n",
    "                                if type(j) == int or type(j) == float or type(j) == bool:\n",
    "                                    a = a*j\n",
    "                                elif type(i) == bool:\n",
    "                                    a = a*i\n",
    "                                elif type(i) == tuple:\n",
    "                                    for j in i:\n",
    "                                        if type(j) == int or type(j) == float or type(j) == bool:\n",
    "                                            a = a*j\n",
    "                                        else:\n",
    "                                            continue\n",
    "                                            \n",
    "                \n",
    "            elif type(i) == str:\n",
    "                continue\n",
    "                    \n",
    "    return a"
   ]
  },
  {
   "cell_type": "code",
   "execution_count": 67,
   "id": "0d22b853-74fe-4c81-a40c-e85d31121473",
   "metadata": {},
   "outputs": [
    {
     "name": "stdout",
     "output_type": "stream",
     "text": [
      "0\n"
     ]
    }
   ],
   "source": [
    "list1 = [1,2,3,4, [44,55,66, True], False, (34,56,78,89,34), {1,2,3,3,2,1}, {1:34, \"key2\": [55, 67, 78, 89], 4: (45, 22, 61, 34)}, \n",
    "         [56, 'data science'], 'Machine Learning']\n",
    "print(list_product(list1))"
   ]
  },
  {
   "cell_type": "code",
   "execution_count": null,
   "id": "0d052542-fed6-4b22-8f1d-6d987b6aabe9",
   "metadata": {},
   "outputs": [],
   "source": []
  },
  {
   "cell_type": "code",
   "execution_count": null,
   "id": "89ea6d25-4555-4bcd-8cea-5abc190fd5a8",
   "metadata": {},
   "outputs": [],
   "source": []
  },
  {
   "cell_type": "code",
   "execution_count": null,
   "id": "ff75848c-c09d-45f0-895f-7c0ea47d80ad",
   "metadata": {},
   "outputs": [],
   "source": []
  },
  {
   "cell_type": "code",
   "execution_count": null,
   "id": "91ecf861-48ff-49d5-8bed-a2498e3a6693",
   "metadata": {},
   "outputs": [],
   "source": []
  },
  {
   "cell_type": "markdown",
   "id": "e82c52dd-e23b-4307-b281-532eb5b7dc27",
   "metadata": {},
   "source": [
    "Write a python program for encrypting a message sent to you by your friend. The logic of encryption\n",
    "should be such that, for a the output should be z. For b, the output should be y. For c, the output should\n",
    "be x respectively. Also, the whitespace should be replaced with a dollar sign. Keep the punctuation\n",
    "marks unchanged.\n",
    "Input Sentence: I want to become a Data Scientist.\n",
    "Encrypt the above input sentence using the program you just created."
   ]
  },
  {
   "cell_type": "code",
   "execution_count": 95,
   "id": "67f79e35-214d-40b1-acb4-ed19963a58b0",
   "metadata": {},
   "outputs": [],
   "source": [
    "def str_enc(s):\n",
    "    s = s.lower()\n",
    "    enc = ''\n",
    "    l = ['a','b','c','d','e','f','g','h','i','j','k','l','m','n','o','p','q','r','s','t','u','v','w','x','y','z']\n",
    "    for i in range(len(s)):\n",
    "        j = s[i]\n",
    "        if j in l:\n",
    "            item = l.index(j)\n",
    "            enc = enc + l[-item-1]\n",
    "        else:\n",
    "            enc = enc + '$'\n",
    "    return enc\n",
    "            \n",
    "    "
   ]
  },
  {
   "cell_type": "code",
   "execution_count": 96,
   "id": "8032cf9a-bd97-497a-8584-80cb01e38bf0",
   "metadata": {},
   "outputs": [
    {
     "data": {
      "text/plain": [
       "'r$dzmg$gl$yvxlnv$z$wzgz$hxrvmgrhg'"
      ]
     },
     "execution_count": 96,
     "metadata": {},
     "output_type": "execute_result"
    }
   ],
   "source": [
    "inp = 'I want to become a Data Scientist'\n",
    "a = str_enc(inp)\n",
    "a"
   ]
  }
 ],
 "metadata": {
  "kernelspec": {
   "display_name": "Python 3 (ipykernel)",
   "language": "python",
   "name": "python3"
  },
  "language_info": {
   "codemirror_mode": {
    "name": "ipython",
    "version": 3
   },
   "file_extension": ".py",
   "mimetype": "text/x-python",
   "name": "python",
   "nbconvert_exporter": "python",
   "pygments_lexer": "ipython3",
   "version": "3.10.8"
  }
 },
 "nbformat": 4,
 "nbformat_minor": 5
}
