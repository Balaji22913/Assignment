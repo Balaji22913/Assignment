{
 "cells": [
  {
   "cell_type": "markdown",
   "id": "e374b4a0-0b3f-4316-97e2-0eb381d66995",
   "metadata": {},
   "source": [
    "1) What is multithreading in python? Why is it used?Name the module used to handle threads in python."
   ]
  },
  {
   "cell_type": "markdown",
   "id": "6111ad62-dca0-4e28-833e-a2b53873d31d",
   "metadata": {},
   "source": [
    "Multithreading in Python enables CPUs to run different parts(threads) of a process concurrently to maximize CPU utilization. Multithreading enables CPUs to run different parts(threads) of a process concurrently.\n",
    "\n",
    "The Threading Module\n",
    "threading.currentThread() − Returns the number of thread objects in the caller's thread control. threading.enumerate() − Returns a list of all thread objects that are currently active."
   ]
  },
  {
   "cell_type": "markdown",
   "id": "1548f47e-4d4d-414a-8fdf-ce17c79284e0",
   "metadata": {},
   "source": [
    "2) Why threading module used? Write the use of the following functions\n",
    "\n",
    "a) activeCount()\n",
    "b) currentThread()\n",
    "c) enumerate()"
   ]
  },
  {
   "cell_type": "markdown",
   "id": "41e8c552-9a72-4171-acb7-768b477a5b64",
   "metadata": {},
   "source": [
    "Python threading allows you to have different parts of your program run concurrently and can simplify your design."
   ]
  },
  {
   "cell_type": "markdown",
   "id": "e64bda04-1a4e-4cd9-b246-fb05238e4e76",
   "metadata": {},
   "source": [
    "Return the number of Thread objects currently alive. The returned count is equal to the length of the list returned by enumerate().\n",
    "\n",
    "\n",
    "Return the current Thread object, corresponding to the caller’s thread of control. If the caller’s thread of control was not created through the threading module, a dummy thread object with limited functionality is returned.\n",
    "\n",
    "Return a list of all Thread objects currently active. The list includes daemonic threads and dummy thread objects created by current_thread(). It excludes terminated threads and threads that have not yet been started. However, the main thread is always part of the result, even when terminated."
   ]
  },
  {
   "cell_type": "markdown",
   "id": "d0673d6a-ca8c-4faa-a37d-f3e15495349e",
   "metadata": {},
   "source": [
    "3) Explain the following functions:-  \n",
    "run()  \n",
    "start()  \n",
    "join()  \n",
    "isAlive()  "
   ]
  },
  {
   "cell_type": "markdown",
   "id": "ae88ea15-8959-469f-8d85-8c53ec154eb0",
   "metadata": {},
   "source": [
    "The run() method executes any target function belonging to a given thread object that is now active.\n",
    "\n",
    "Starts a python thread. A thread is started after some fractional delta time, as the thread needs to be initialised. before it is executed in the operating system context.\n",
    "\n",
    "The join() method takes all items in an iterable and joins them into one string. A string must be specified as the separator.\n",
    "\n",
    "\n",
    "The  is_alive() method returns True if the thread is still running and False , otherwise."
   ]
  },
  {
   "cell_type": "markdown",
   "id": "49c9e002-3590-4370-b275-6b57bee4ac03",
   "metadata": {},
   "source": [
    "4) write a python program to create two threads. Thread one must print the list of squares and thread\n",
    "two must print the list of cubes"
   ]
  },
  {
   "cell_type": "code",
   "execution_count": 2,
   "id": "4e756993-998f-4aa4-aeea-9fe661148368",
   "metadata": {},
   "outputs": [],
   "source": [
    "import time\n",
    "def calc_square(numbers):\n",
    "    for n in numbers:\n",
    "        print(f'\\n{n} ^ 2 = {n*n}')\n",
    "        time.sleep(0.1)\n",
    "\n",
    "def calc_cube(numbers):\n",
    "    for n in numbers:\n",
    "        print(f'\\n{n} ^ 3 = {n*n*n}')\n",
    "        time.sleep(0.1)"
   ]
  },
  {
   "cell_type": "code",
   "execution_count": 3,
   "id": "ea71b693-b8a6-4ce5-a73f-eafa47ba7c51",
   "metadata": {},
   "outputs": [
    {
     "name": "stdout",
     "output_type": "stream",
     "text": [
      "\n",
      "2 ^ 2 = 4\n",
      "\n",
      "3 ^ 2 = 9\n",
      "\n",
      "5 ^ 2 = 25\n",
      "\n",
      "8 ^ 2 = 64\n",
      "\n",
      "2 ^ 3 = 8\n",
      "\n",
      "3 ^ 3 = 27\n",
      "\n",
      "5 ^ 3 = 125\n",
      "\n",
      "8 ^ 3 = 512\n",
      "Execution Time: 0.8021230697631836\n"
     ]
    }
   ],
   "source": [
    "numbers = [2, 3, 5, 8]\n",
    "start = time.time()\n",
    "calc_square(numbers)\n",
    "calc_cube(numbers)\n",
    "end = time.time()\n",
    "\n",
    "print('Execution Time: {}'.format(end-start))"
   ]
  },
  {
   "cell_type": "code",
   "execution_count": 4,
   "id": "de910b8c-b87b-42d2-b11e-b9790e7dbe1f",
   "metadata": {},
   "outputs": [
    {
     "name": "stdout",
     "output_type": "stream",
     "text": [
      "\n",
      "2 ^ 2 = 4\n",
      "\n",
      "2 ^ 3 = 8\n",
      "\n",
      "3 ^ 2 = 9\n",
      "\n",
      "3 ^ 3 = 27\n",
      "\n",
      "5 ^ 2 = 25\n",
      "\n",
      "5 ^ 3 = 125\n",
      "\n",
      "8 ^ 2 = 64\n",
      "\n",
      "8 ^ 3 = 512\n",
      "Execution Time: 0.40221548080444336\n"
     ]
    }
   ],
   "source": [
    "import threading\n",
    "\n",
    "start = time.time()\n",
    "\n",
    "square_thread = threading.Thread(target=calc_square, args=(numbers,))\n",
    "cube_thread = threading.Thread(target=calc_cube, args=(numbers,))\n",
    "\n",
    "square_thread.start()\n",
    "cube_thread.start()\n",
    "\n",
    "square_thread.join()\n",
    "cube_thread.join()\n",
    "\n",
    "end = time.time()\n",
    "\n",
    "print('Execution Time: {}'.format(end-start))"
   ]
  },
  {
   "cell_type": "markdown",
   "id": "99c9ff6e-d6eb-4745-a853-58cd898f4c45",
   "metadata": {},
   "source": [
    "5) State advantages and disadvantages of multithreading"
   ]
  },
  {
   "cell_type": "markdown",
   "id": "be06d9d2-36e3-4c08-a119-b7dbad5d7674",
   "metadata": {},
   "source": [
    "Following are some of the common advantages of multithreading:\n",
    "\n",
    "Enhanced performance by decreased development time\n",
    "Simplified and streamlined program coding\n",
    "Improvised GUI responsiveness\n",
    "Simultaneous and parallelized occurrence of tasks\n",
    "Better use of cache storage by utilization of resources\n",
    "Decreased cost of maintenance\n",
    "Better use of CPU resource\n",
    "\n",
    "\n",
    "\n",
    "Some common disadvantages:\n",
    "\n",
    "Complex debugging and testing processes\n",
    "Overhead switching of context\n",
    "Increased potential for deadlock occurrence\n",
    "Increased difficulty level in writing a program\n",
    "Unpredictable results"
   ]
  },
  {
   "cell_type": "markdown",
   "id": "c18fc1d8-5639-4f8d-b1b1-3bc798f3e03d",
   "metadata": {},
   "source": [
    "6) Explain deadlocks and race conditions."
   ]
  },
  {
   "cell_type": "markdown",
   "id": "8769a413-9349-4535-abd8-858bdf4db9ea",
   "metadata": {},
   "source": [
    "What is deadlock and race condition in multithreading?\n",
    "A deadlock occurs when two threads each lock a different variable at the same time and then try to lock the variable that the other thread already locked. As a result, each thread stops executing and waits for the other thread to release the variable."
   ]
  },
  {
   "cell_type": "code",
   "execution_count": null,
   "id": "0cee308c-935b-48a7-b0b9-0663ab6a37d1",
   "metadata": {},
   "outputs": [],
   "source": []
  }
 ],
 "metadata": {
  "kernelspec": {
   "display_name": "Python 3 (ipykernel)",
   "language": "python",
   "name": "python3"
  },
  "language_info": {
   "codemirror_mode": {
    "name": "ipython",
    "version": 3
   },
   "file_extension": ".py",
   "mimetype": "text/x-python",
   "name": "python",
   "nbconvert_exporter": "python",
   "pygments_lexer": "ipython3",
   "version": "3.10.8"
  }
 },
 "nbformat": 4,
 "nbformat_minor": 5
}
