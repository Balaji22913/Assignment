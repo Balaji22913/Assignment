{
 "cells": [
  {
   "cell_type": "markdown",
   "id": "b09d21f9-0aba-4e06-ae89-32842ff25da7",
   "metadata": {},
   "source": [
    "1) Explain why we have to use the Exception class while creating a Custom Exception."
   ]
  },
  {
   "cell_type": "code",
   "execution_count": null,
   "id": "a09a5d8b-df78-4f4e-8d5a-965cd966606a",
   "metadata": {},
   "outputs": [],
   "source": []
  },
  {
   "cell_type": "markdown",
   "id": "2b2e8bf5-710a-4999-b93d-27cf264d91bc",
   "metadata": {},
   "source": [
    "2) Write a python program to print Python Exception Hierarchy."
   ]
  },
  {
   "cell_type": "code",
   "execution_count": null,
   "id": "eca4470d-f30d-4313-8046-24b5ed25f0d3",
   "metadata": {},
   "outputs": [],
   "source": []
  },
  {
   "cell_type": "markdown",
   "id": "7a97bf61-d7b1-4048-9b25-ceac183b52bf",
   "metadata": {},
   "source": [
    "3) What errors are defined in the ArithmeticError class? Explain any two with an example."
   ]
  },
  {
   "cell_type": "markdown",
   "id": "b9f60484-e43c-41e6-ab71-cd8e3e4c7486",
   "metadata": {},
   "source": [
    "This class is the base class for those built-in exceptions that are raised for various arithmetic errors such as :\n",
    "OverflowError\n",
    "ZeroDivisionError"
   ]
  },
  {
   "cell_type": "code",
   "execution_count": 2,
   "id": "c4ebf5cb-0917-4ac1-bb2c-91c682eaf17f",
   "metadata": {},
   "outputs": [
    {
     "name": "stdout",
     "output_type": "stream",
     "text": [
      "5.0\n",
      "25.0\n",
      "15625.0\n",
      "5.960464477539062e+16\n",
      "7.52316384526264e+83\n"
     ]
    },
    {
     "ename": "OverflowError",
     "evalue": "(34, 'Numerical result out of range')",
     "output_type": "error",
     "traceback": [
      "\u001b[0;31m---------------------------------------------------------------------------\u001b[0m",
      "\u001b[0;31mOverflowError\u001b[0m                             Traceback (most recent call last)",
      "Cell \u001b[0;32mIn[2], line 5\u001b[0m\n\u001b[1;32m      2\u001b[0m j \u001b[38;5;241m=\u001b[39m \u001b[38;5;241m5.0\u001b[39m\n\u001b[1;32m      4\u001b[0m \u001b[38;5;28;01mfor\u001b[39;00m i \u001b[38;5;129;01min\u001b[39;00m \u001b[38;5;28mrange\u001b[39m(\u001b[38;5;241m1\u001b[39m, \u001b[38;5;241m1000\u001b[39m):\n\u001b[0;32m----> 5\u001b[0m     j \u001b[38;5;241m=\u001b[39m \u001b[43mj\u001b[49m\u001b[38;5;241;43m*\u001b[39;49m\u001b[38;5;241;43m*\u001b[39;49m\u001b[43mi\u001b[49m\n\u001b[1;32m      6\u001b[0m     \u001b[38;5;28mprint\u001b[39m(j)\n",
      "\u001b[0;31mOverflowError\u001b[0m: (34, 'Numerical result out of range')"
     ]
    }
   ],
   "source": [
    "#OverflowError\n",
    "j = 5.0\n",
    "\n",
    "for i in range(1, 1000):\n",
    "    j = j**i\n",
    "    print(j)"
   ]
  },
  {
   "cell_type": "code",
   "execution_count": 3,
   "id": "ea2f8102-f27c-4abd-9fbe-04fae8ba3921",
   "metadata": {},
   "outputs": [
    {
     "ename": "ZeroDivisionError",
     "evalue": "division by zero",
     "output_type": "error",
     "traceback": [
      "\u001b[0;31m---------------------------------------------------------------------------\u001b[0m",
      "\u001b[0;31mZeroDivisionError\u001b[0m                         Traceback (most recent call last)",
      "Cell \u001b[0;32mIn[3], line 4\u001b[0m\n\u001b[1;32m      1\u001b[0m \u001b[38;5;66;03m#ZeroDevisioError\u001b[39;00m\n\u001b[1;32m      3\u001b[0m a \u001b[38;5;241m=\u001b[39m \u001b[38;5;241m10\u001b[39m\n\u001b[0;32m----> 4\u001b[0m \u001b[38;5;28mprint\u001b[39m(\u001b[43ma\u001b[49m\u001b[38;5;241;43m/\u001b[39;49m\u001b[38;5;241;43m0\u001b[39;49m)\n",
      "\u001b[0;31mZeroDivisionError\u001b[0m: division by zero"
     ]
    }
   ],
   "source": [
    "#ZeroDevisioError\n",
    "\n",
    "a = 10\n",
    "print(a/0)"
   ]
  },
  {
   "cell_type": "markdown",
   "id": "570135d8-6588-4323-b4eb-05efce91b128",
   "metadata": {},
   "source": [
    "4) Why LookupError class is used? Explain with an example KeyError and IndexError."
   ]
  },
  {
   "cell_type": "markdown",
   "id": "d10146a5-e374-46a8-8130-3a3417086126",
   "metadata": {},
   "source": [
    "The LookupError exception in Python forms the base class for all exceptions that are raised when an index or a key is not found for a sequence or dictionary respectively."
   ]
  },
  {
   "cell_type": "code",
   "execution_count": 4,
   "id": "1cfe242c-1d6f-45f4-9997-7c99f843c109",
   "metadata": {},
   "outputs": [
    {
     "name": "stdout",
     "output_type": "stream",
     "text": [
      "list index out of range, <class 'IndexError'>\n"
     ]
    }
   ],
   "source": [
    "x = [1, 2, 3, 4]\n",
    "try:\n",
    "    print(x[10])\n",
    "except LookupError as e:\n",
    "    print(f\"{e}, {e.__class__}\")"
   ]
  },
  {
   "cell_type": "code",
   "execution_count": null,
   "id": "1d5f6925-c2ca-40c0-bf4c-70a523d8cb5e",
   "metadata": {},
   "outputs": [
    {
     "name": "stdin",
     "output_type": "stream",
     "text": [
      "What do you want to learn about Pylenin==>  55\n"
     ]
    },
    {
     "name": "stdout",
     "output_type": "stream",
     "text": [
      "'55', <class 'KeyError'>\n"
     ]
    }
   ],
   "source": [
    "pylenin_info = {'name': 'Lenin Mishra',\n",
    "                'age': 28,\n",
    "                'language': 'Python'}\n",
    "user_input = input('What do you want to learn about Pylenin==> ')\n",
    "\n",
    "try:\n",
    "    print(f'{user_input} is {pylenin_info[user_input]}')\n",
    "except LookupError as e:\n",
    "    print(f'{e}, {e.__class__}')"
   ]
  },
  {
   "cell_type": "markdown",
   "id": "cd48fd8a-088c-41d6-9147-352cf45546e5",
   "metadata": {},
   "source": [
    "5) Explain ImportError. What is ModuleNotFoundError?"
   ]
  },
  {
   "cell_type": "markdown",
   "id": "41160b87-af29-4966-b5b5-73274998b99e",
   "metadata": {},
   "source": [
    "ImportError occure when we try to import a module which is not present. If we write incorrect name, we will get module no fount roor."
   ]
  },
  {
   "cell_type": "code",
   "execution_count": 7,
   "id": "98d83b53-5f0e-44ed-b45e-62d1bd8660f2",
   "metadata": {},
   "outputs": [
    {
     "ename": "ModuleNotFoundError",
     "evalue": "No module named 'pwskills'",
     "output_type": "error",
     "traceback": [
      "\u001b[0;31m---------------------------------------------------------------------------\u001b[0m",
      "\u001b[0;31mModuleNotFoundError\u001b[0m                       Traceback (most recent call last)",
      "Cell \u001b[0;32mIn[7], line 1\u001b[0m\n\u001b[0;32m----> 1\u001b[0m \u001b[38;5;28;01mimport\u001b[39;00m \u001b[38;5;21;01mpwskills\u001b[39;00m\n",
      "\u001b[0;31mModuleNotFoundError\u001b[0m: No module named 'pwskills'"
     ]
    }
   ],
   "source": [
    "import pwskills"
   ]
  },
  {
   "cell_type": "markdown",
   "id": "686c5a7e-f03b-4fe9-90cd-43d6f3ad6f54",
   "metadata": {},
   "source": [
    "6) List down some best practices for exception handling in python."
   ]
  },
  {
   "cell_type": "markdown",
   "id": "6c4f25c1-125e-4a21-a163-0e1006b61af4",
   "metadata": {},
   "source": [
    "use always a specific exception;  \n",
    "print always a proper message;  \n",
    "always try to log your error;  \n",
    "alwyas avoid to write a multiple exception handling;   \n",
    "Document all the error;  \n",
    "cleanup all the resources"
   ]
  },
  {
   "cell_type": "code",
   "execution_count": null,
   "id": "49e97244-c639-4eb5-827b-ea3d5edf7252",
   "metadata": {},
   "outputs": [],
   "source": []
  }
 ],
 "metadata": {
  "kernelspec": {
   "display_name": "Python 3 (ipykernel)",
   "language": "python",
   "name": "python3"
  },
  "language_info": {
   "codemirror_mode": {
    "name": "ipython",
    "version": 3
   },
   "file_extension": ".py",
   "mimetype": "text/x-python",
   "name": "python",
   "nbconvert_exporter": "python",
   "pygments_lexer": "ipython3",
   "version": "3.10.8"
  }
 },
 "nbformat": 4,
 "nbformat_minor": 5
}
