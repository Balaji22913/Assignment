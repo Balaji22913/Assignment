{
 "cells": [
  {
   "cell_type": "code",
   "execution_count": 4,
   "id": "efd5b299-17a0-48ec-a4e8-50c599a2422a",
   "metadata": {},
   "outputs": [
    {
     "name": "stdin",
     "output_type": "stream",
     "text": [
      "ENTER YOUR PERCENTAGE HERE 99\n"
     ]
    },
    {
     "name": "stdout",
     "output_type": "stream",
     "text": [
      "Garde A\n"
     ]
    }
   ],
   "source": [
    "marks = int(input('ENTER YOUR PERCENTAGE HERE'))\n",
    "if marks > 90:\n",
    "    print('Garde A')\n",
    "elif marks <= 90  and marks > 80:\n",
    "    print('Garde B')\n",
    "elif marks <= 80 and marks > 60:\n",
    "    print('Garde C')\n",
    "else:\n",
    "    print('Garde D')"
   ]
  },
  {
   "cell_type": "code",
   "execution_count": 8,
   "id": "69639588-4f8e-49ac-962f-7f30d6e674f4",
   "metadata": {},
   "outputs": [
    {
     "name": "stdin",
     "output_type": "stream",
     "text": [
      "ENTER YOUR COST PRICE HERE 150000\n"
     ]
    },
    {
     "name": "stdout",
     "output_type": "stream",
     "text": [
      "Total tax ammount is: 22500.0\n"
     ]
    }
   ],
   "source": [
    "cost = int(input('ENTER YOUR COST PRICE HERE'))\n",
    "if cost > 100000:\n",
    "    tax = cost*0.15\n",
    "    print('Total tax ammount is: '+str(tax))\n",
    "elif cost <= 100000  and cost > 50000:\n",
    "    tax = cost*0.1\n",
    "    print('Total tax ammount is: '+str(tax))\n",
    "else:\n",
    "    tax = cost*0.05\n",
    "    print('Total tax ammount is: '+str(tax))"
   ]
  },
  {
   "cell_type": "code",
   "execution_count": 11,
   "id": "8bade128-ab12-4f31-be28-cd3ebdfa470d",
   "metadata": {},
   "outputs": [
    {
     "name": "stdin",
     "output_type": "stream",
     "text": [
      "Enter the name of the city agra\n"
     ]
    },
    {
     "name": "stdout",
     "output_type": "stream",
     "text": [
      "Taj Mahal\n"
     ]
    }
   ],
   "source": [
    "name = input('Enter the name of the city')\n",
    "if name.lower() == 'delhi':\n",
    "    print('Red Fort')\n",
    "elif name.lower() == 'agra':\n",
    "    print('Taj Mahal')\n",
    "elif name.lower() == 'jaipur':\n",
    "    print('Jal Mahal')"
   ]
  },
  {
   "cell_type": "code",
   "execution_count": 17,
   "id": "23c5ae6c-8a77-442f-b726-c5900d128a7c",
   "metadata": {},
   "outputs": [
    {
     "name": "stdin",
     "output_type": "stream",
     "text": [
      "ENTER YOUR NUMBER HERE 500\n"
     ]
    },
    {
     "name": "stdout",
     "output_type": "stream",
     "text": [
      "4\n"
     ]
    }
   ],
   "source": [
    "n = int(input('ENTER YOUR NUMBER HERE'))\n",
    "k = 0\n",
    "while n >= 10:\n",
    "    n = n/3\n",
    "    k += 1\n",
    "print(k)"
   ]
  },
  {
   "cell_type": "markdown",
   "id": "3ebe86b1-f142-44e9-9341-8545ef098481",
   "metadata": {},
   "source": [
    "While loop is used to run a block code until a certain condition is met. Here, A while loop evaluates the condition. If the condition evaluates to True , the code inside the while loop is executed."
   ]
  },
  {
   "cell_type": "code",
   "execution_count": 18,
   "id": "43acf921-6ba3-4e34-87ae-1f666a99407e",
   "metadata": {},
   "outputs": [
    {
     "name": "stdout",
     "output_type": "stream",
     "text": [
      "0\n",
      "3\n",
      "12\n",
      "27\n",
      "48\n",
      "75\n",
      "108\n",
      "147\n",
      "192\n",
      "243\n",
      "300\n",
      "363\n",
      "432\n",
      "507\n",
      "588\n",
      "675\n",
      "768\n",
      "867\n",
      "972\n",
      "1083\n"
     ]
    }
   ],
   "source": [
    "i = 0\n",
    "k = 0\n",
    "while i < 20:\n",
    "    print(i*k)\n",
    "    i = i+1\n",
    "    k = k+3"
   ]
  },
  {
   "cell_type": "code",
   "execution_count": 19,
   "id": "22011208-1242-4f75-891f-e871cfb883af",
   "metadata": {},
   "outputs": [
    {
     "name": "stdout",
     "output_type": "stream",
     "text": [
      "1 \n",
      "1 2 \n",
      "1 2 3 \n",
      "1 2 3 4 \n",
      "1 2 3 4 5 \n"
     ]
    }
   ],
   "source": [
    "i=1\n",
    "while i<=5:\n",
    "    j=1\n",
    "    while j<=i:\n",
    "        print(j,end=\" \")\n",
    "        j=j+1\n",
    "    print(\"\")\n",
    "    i=i+1"
   ]
  },
  {
   "cell_type": "code",
   "execution_count": 23,
   "id": "c56ee5ef-c369-4d1b-a119-eec769571083",
   "metadata": {},
   "outputs": [
    {
     "name": "stdout",
     "output_type": "stream",
     "text": [
      "* \n",
      "* * \n",
      "* * * \n",
      "* * * * \n",
      "* * * * * \n"
     ]
    }
   ],
   "source": [
    "i=1\n",
    "while i<=5:\n",
    "    j=1\n",
    "    while j<=i:\n",
    "        print('*',end=\" \")\n",
    "        j=j+1\n",
    "    print(\"\")\n",
    "    i=i+1"
   ]
  },
  {
   "cell_type": "code",
   "execution_count": 25,
   "id": "6076ae05-c64a-4e93-9e83-79696001d13f",
   "metadata": {},
   "outputs": [
    {
     "name": "stdout",
     "output_type": "stream",
     "text": [
      "     \n",
      "    *\n",
      "   **\n",
      "  ***\n",
      " ****\n",
      "*****\n"
     ]
    }
   ],
   "source": [
    "n=5;i=0\n",
    "while(i<=n):\n",
    "  print(\" \" * (n - i) +\"*\" * i)\n",
    "  i+=1"
   ]
  },
  {
   "cell_type": "code",
   "execution_count": 32,
   "id": "dda8419f-6d49-4b3a-943c-9ecf9c9f02be",
   "metadata": {},
   "outputs": [
    {
     "ename": "TypeError",
     "evalue": "'list' object is not callable",
     "output_type": "error",
     "traceback": [
      "\u001b[0;31m---------------------------------------------------------------------------\u001b[0m",
      "\u001b[0;31mTypeError\u001b[0m                                 Traceback (most recent call last)",
      "Cell \u001b[0;32mIn[32], line 4\u001b[0m\n\u001b[1;32m      2\u001b[0m l \u001b[38;5;241m=\u001b[39m []\n\u001b[1;32m      3\u001b[0m \u001b[38;5;28;01mwhile\u001b[39;00m i \u001b[38;5;241m<\u001b[39m \u001b[38;5;241m10\u001b[39m:\n\u001b[0;32m----> 4\u001b[0m     l\u001b[38;5;241m.\u001b[39mappend(\u001b[43ma\u001b[49m\u001b[43m(\u001b[49m\u001b[38;5;241;43m-\u001b[39;49m\u001b[43mi\u001b[49m\u001b[43m)\u001b[49m)\n\u001b[1;32m      5\u001b[0m \u001b[38;5;28mprint\u001b[39m(l)\n",
      "\u001b[0;31mTypeError\u001b[0m: 'list' object is not callable"
     ]
    }
   ],
   "source": [
    "a = list(range(1,11))\n",
    "l = []\n",
    "while i < 10:\n",
    "    l.append(a[-i))\n",
    "print(l)"
   ]
  },
  {
   "cell_type": "code",
   "execution_count": 31,
   "id": "5c54db2e-9315-4168-b55f-98dd5977b022",
   "metadata": {},
   "outputs": [
    {
     "data": {
      "text/plain": [
       "[1, 2, 3, 4, 5, 6, 7, 8, 9, 10]"
      ]
     },
     "execution_count": 31,
     "metadata": {},
     "output_type": "execute_result"
    }
   ],
   "source": [
    "a"
   ]
  },
  {
   "cell_type": "code",
   "execution_count": null,
   "id": "d20d38b3-b309-480f-bc60-0cd19a04f6a9",
   "metadata": {},
   "outputs": [],
   "source": [
    "a"
   ]
  }
 ],
 "metadata": {
  "kernelspec": {
   "display_name": "Python 3 (ipykernel)",
   "language": "python",
   "name": "python3"
  },
  "language_info": {
   "codemirror_mode": {
    "name": "ipython",
    "version": 3
   },
   "file_extension": ".py",
   "mimetype": "text/x-python",
   "name": "python",
   "nbconvert_exporter": "python",
   "pygments_lexer": "ipython3",
   "version": "3.10.8"
  }
 },
 "nbformat": 4,
 "nbformat_minor": 5
}
