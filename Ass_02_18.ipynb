{
 "cells": [
  {
   "cell_type": "markdown",
   "id": "91fb091f-baa4-4090-b504-c1f89f3789ee",
   "metadata": {},
   "source": [
    "Q1. What is an API? Give an example, where an API is used in real life."
   ]
  },
  {
   "cell_type": "markdown",
   "id": "1c908914-8d57-4dab-8098-a814127ddaec",
   "metadata": {},
   "source": [
    "APIs are used by web applications to link functionality and data on the back end with the user-facing front end. APIs are used to deliver content by streaming services like Spotify and Netflix. APIs are used to provide software updates by automakers like Tesla."
   ]
  },
  {
   "cell_type": "markdown",
   "id": "a5f34ffa-d7ac-4961-9efb-48c980a0fc8f",
   "metadata": {},
   "source": [
    "Q2. Give advantages and disadvantages of using API."
   ]
  },
  {
   "cell_type": "markdown",
   "id": "9e33e55a-02ce-453f-adb2-66cf3fcbef4e",
   "metadata": {},
   "source": [
    "Advantages:-\n",
    "Personalization, Integration, Efficienc, Application and Automation\n",
    "\n",
    "Disadvantages:-\n",
    "Creating API is a very time-consuming process.\n",
    "A fixed scale is necessary.\n",
    "Imprecise boundary delineation.\n",
    "To create API, programming knowledge is necessary.\n",
    "Maintenance cost is very high.\n",
    "It can crash when testing API."
   ]
  },
  {
   "cell_type": "markdown",
   "id": "2161cc8a-d102-4070-adf2-5a182a004429",
   "metadata": {},
   "source": [
    "Q3. What is a Web API? Differentiate between API and Web API."
   ]
  },
  {
   "cell_type": "markdown",
   "id": "2b901ea7-fac2-4bd4-ad04-3b1e18277a40",
   "metadata": {},
   "source": [
    "A Web API is an application programming interface for the Web. A Browser API can extend the functionality of a web browser. A Server API can extend the functionality of a web server.\n",
    "\n",
    "What is difference between API and Web API?\n",
    "Image result for Q3. What is a Web API? Difference between API and Web API.\n",
    "Both APIs and web services are technologies that enable the transfer of data between separate software applications. API is an interface that exposes an application's data to outside software, whereas web applications are one type of API with stricter requirements."
   ]
  },
  {
   "cell_type": "markdown",
   "id": "f5989372-8919-45ad-844f-e7702ffd3fed",
   "metadata": {},
   "source": [
    "Q4. Explain REST and SOAP Architecture. Mention shortcomings of SOAP."
   ]
  },
  {
   "cell_type": "markdown",
   "id": "6c35a56e-b559-49ce-aa8b-7ffff9c3656a",
   "metadata": {},
   "source": [
    "REST was designed specifically for working with components such as media components, files, or even objects on a particular hardware device. Any web service that is defined on the principles of REST can be called a RestFul web service. A Restful service would use the normal HTTP verbs of GET, POST, PUT and DELETE for working with the required components. REST stands for Representational State Transfer.\n",
    "\n",
    "SOAP is a protocol which was designed before REST and came into the picture. The main idea behind designing SOAP was to ensure that programs built on different platforms and programming languages could exchange data in an easy manner. SOAP stands for Simple Object Access Protocol."
   ]
  },
  {
   "cell_type": "markdown",
   "id": "5df81c01-8788-404f-9966-bfebd360a5fa",
   "metadata": {},
   "source": [
    "Q5. Differentiate between REST and SOAP."
   ]
  },
  {
   "cell_type": "markdown",
   "id": "9cf6bf04-e16d-4419-bc65-04db13f30e12",
   "metadata": {},
   "source": [
    "Key Difference Between SOAP and REST API:-\n",
    "\n",
    "\n",
    "SOAP stands for Simple Object Access Protocol whereas REST stands for Representational State Transfer.  \n",
    "SOAP is a protocol whereas REST is an architectural pattern.  \n",
    "SOAP uses service interfaces to expose its functionality to client applications while REST uses Uniform Service locators to access to the components on the hardware device.  \n",
    "SOAP needs more bandwidth for its usage whereas REST doesn’t need much bandwidth.  \n",
    "Comparing SOAP vs REST API, SOAP only works with XML formats whereas REST work with plain text, XML, HTML and JSON.  \n",
    "SOAP cannot make use of REST whereas REST can make use of SOAP.  "
   ]
  },
  {
   "cell_type": "code",
   "execution_count": null,
   "id": "4002e955-7d6e-487d-8f90-266d29e26734",
   "metadata": {},
   "outputs": [],
   "source": []
  }
 ],
 "metadata": {
  "kernelspec": {
   "display_name": "Python 3 (ipykernel)",
   "language": "python",
   "name": "python3"
  },
  "language_info": {
   "codemirror_mode": {
    "name": "ipython",
    "version": 3
   },
   "file_extension": ".py",
   "mimetype": "text/x-python",
   "name": "python",
   "nbconvert_exporter": "python",
   "pygments_lexer": "ipython3",
   "version": "3.10.8"
  }
 },
 "nbformat": 4,
 "nbformat_minor": 5
}
