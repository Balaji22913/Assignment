{
 "cells": [
  {
   "cell_type": "markdown",
   "id": "782e0ede-e1c2-451a-a70b-7174c3fe0de0",
   "metadata": {},
   "source": [
    "For Loop\n",
    "It is use dwhen we have to run a loop for n number of times."
   ]
  },
  {
   "cell_type": "code",
   "execution_count": 1,
   "id": "e416b58c-9cbc-48cc-9daa-321219840b4b",
   "metadata": {},
   "outputs": [
    {
     "name": "stdout",
     "output_type": "stream",
     "text": [
      "0\n",
      "2\n",
      "4\n",
      "6\n",
      "8\n",
      "10\n",
      "12\n",
      "14\n",
      "16\n",
      "18\n"
     ]
    }
   ],
   "source": [
    "for i in range(10):\n",
    "    print(i*2)"
   ]
  },
  {
   "cell_type": "markdown",
   "id": "86a33a1e-143b-423f-a041-22d42f822da5",
   "metadata": {},
   "source": [
    "While Loop\n",
    "It is used when we have to run a loop till a condition is true."
   ]
  },
  {
   "cell_type": "code",
   "execution_count": 2,
   "id": "9eaa4458-4bdd-428a-b4ec-c2357e7ed1ee",
   "metadata": {},
   "outputs": [
    {
     "name": "stdout",
     "output_type": "stream",
     "text": [
      "0\n",
      "2\n",
      "4\n",
      "6\n",
      "8\n",
      "10\n",
      "12\n",
      "14\n",
      "16\n",
      "18\n"
     ]
    }
   ],
   "source": [
    "i = 0\n",
    "while i < 10:\n",
    "    print(i*2)\n",
    "    i +=1"
   ]
  },
  {
   "cell_type": "markdown",
   "id": "86b3af1b-a27c-4397-871d-5bd8bbc7c8aa",
   "metadata": {},
   "source": [
    "Write a python program to print the sum and product of the first 10 natural numbers using for\n",
    "and while loop."
   ]
  },
  {
   "cell_type": "code",
   "execution_count": 3,
   "id": "9db5b604-00cb-4dcc-befb-21d3c2653336",
   "metadata": {},
   "outputs": [
    {
     "name": "stdout",
     "output_type": "stream",
     "text": [
      "55\n"
     ]
    }
   ],
   "source": [
    "k = 0\n",
    "for i in range(0,11):\n",
    "    k = k + i\n",
    "print(k)"
   ]
  },
  {
   "cell_type": "code",
   "execution_count": 5,
   "id": "c0d40a75-e82f-4f28-b969-d4dc8f32062a",
   "metadata": {},
   "outputs": [
    {
     "name": "stdout",
     "output_type": "stream",
     "text": [
      "55\n"
     ]
    }
   ],
   "source": [
    "k = 0\n",
    "i = 0\n",
    "while i <= 10:\n",
    "    k = k + i\n",
    "    i +=1\n",
    "print(k)"
   ]
  },
  {
   "cell_type": "markdown",
   "id": "b3a9cce5-c8aa-4396-a3fc-62ee15a250d0",
   "metadata": {},
   "source": [
    "Create a python program to compute the electricity bill for a household.\n",
    "The per-unit charges in rupees are as follows: For the first 100 units, the user will be charged Rs. 4.5 per\n",
    "unit, for the next 100 units, the user will be charged Rs. 6 per unit, and for the next 100 units, the user will\n",
    "be charged Rs. 10 per unit, After 300 units and above the user will be charged Rs. 20 per unit."
   ]
  },
  {
   "cell_type": "code",
   "execution_count": 15,
   "id": "eeade3fb-445e-479b-8da3-05c03a17f3f3",
   "metadata": {},
   "outputs": [
    {
     "name": "stdin",
     "output_type": "stream",
     "text": [
      "Enter the units of electricity consumed 310\n"
     ]
    },
    {
     "name": "stdout",
     "output_type": "stream",
     "text": [
      "2250.0\n"
     ]
    }
   ],
   "source": [
    "unit = int(input('Enter the units of electricity consumed'))\n",
    "if unit <= 100:\n",
    "    cost = unit*4.5\n",
    "elif unit > 100 and unit <=200:\n",
    "    unit = unit - 100\n",
    "    cost = unit*6 + (100*4.5)\n",
    "elif unit > 200 and unit <=300:\n",
    "    unit = unit - 200\n",
    "    cost = unit*10 + (100*4.5) + (100*6)\n",
    "else:\n",
    "    unit = unit - 300\n",
    "    cost = unit*20 + (100*4.5) + (100*6) + (100*10)\n",
    "print(cost)"
   ]
  },
  {
   "cell_type": "markdown",
   "id": "0ef465d2-5757-4baf-810b-885ef068b374",
   "metadata": {},
   "source": [
    "Create a list of numbers from 1 to 100. Use for loop and while loop to calculate the cube of each\n",
    "number and if the cube of that number is divisible by 4 or 5 then append that number in a list and print\n",
    "that list."
   ]
  },
  {
   "cell_type": "code",
   "execution_count": 31,
   "id": "f228ab8d-a3bd-4c83-b9ca-eccc1b3cb34f",
   "metadata": {},
   "outputs": [
    {
     "name": "stdout",
     "output_type": "stream",
     "text": [
      "[8, 64, 125, 216, 512, 1000, 1728, 2744, 3375, 4096, 5832, 8000, 10648, 13824, 15625, 17576, 21952, 27000, 32768, 39304, 42875, 46656, 54872, 64000, 74088, 85184, 91125, 97336, 110592, 125000, 140608, 157464, 166375, 175616, 195112, 216000, 238328, 262144, 274625, 287496, 314432, 343000, 373248, 405224, 421875, 438976, 474552, 512000, 551368, 592704, 614125, 636056, 681472, 729000, 778688, 830584, 857375, 884736, 941192, 1000000]\n"
     ]
    }
   ],
   "source": [
    "l = list(range(1,101))\n",
    "l1 = []\n",
    "for i in l:\n",
    "    l1.append(i**3)\n",
    "    \n",
    "l4 = []\n",
    "l5 = []\n",
    "for j in l1:\n",
    "    if j%4 == 0:\n",
    "        l4.append(j)\n",
    "    elif j%5 == 0:\n",
    "        l5.append(j)\n",
    "        \n",
    "final_list = (l4+l5)\n",
    "final_list.sort()\n",
    "print(final_list)"
   ]
  },
  {
   "cell_type": "code",
   "execution_count": 23,
   "id": "3f95c79f-b357-4a3a-ac09-2c76ef9cce5b",
   "metadata": {},
   "outputs": [],
   "source": []
  },
  {
   "cell_type": "markdown",
   "id": "1cee572c-74e1-4647-b1dd-d04a0d035dd4",
   "metadata": {},
   "source": [
    "Write a program to filter count vowels in the below-given string.\n",
    "string = \"I want to become a data scientist\""
   ]
  },
  {
   "cell_type": "code",
   "execution_count": 28,
   "id": "e9719100-9566-4cc7-bd95-fbf00ef66f95",
   "metadata": {},
   "outputs": [],
   "source": [
    "l = ['a','e','i','o','u']\n",
    "string = \"I want to become a data scientist\"\n",
    "s_list = string.split()\n",
    "list(filter(lambda x :    ,string)"
   ]
  },
  {
   "cell_type": "code",
   "execution_count": 36,
   "id": "a453aa95-5a6c-4218-8da5-9c5e0a392d5a",
   "metadata": {},
   "outputs": [
    {
     "name": "stdout",
     "output_type": "stream",
     "text": [
      "11\n"
     ]
    }
   ],
   "source": [
    "l = ['a','e','i','o','u']\n",
    "string = \"I want to become a data scientist\"\n",
    "count = 0\n",
    "for i in string:\n",
    "    if i in l:\n",
    "        count +=1\n",
    "print(count)"
   ]
  },
  {
   "cell_type": "code",
   "execution_count": null,
   "id": "62de24c2-a653-4385-9b6d-2b0b533c79bd",
   "metadata": {},
   "outputs": [],
   "source": []
  },
  {
   "cell_type": "code",
   "execution_count": null,
   "id": "4c96a041-d033-48b8-a858-003dd067177c",
   "metadata": {},
   "outputs": [],
   "source": []
  }
 ],
 "metadata": {
  "kernelspec": {
   "display_name": "Python 3 (ipykernel)",
   "language": "python",
   "name": "python3"
  },
  "language_info": {
   "codemirror_mode": {
    "name": "ipython",
    "version": 3
   },
   "file_extension": ".py",
   "mimetype": "text/x-python",
   "name": "python",
   "nbconvert_exporter": "python",
   "pygments_lexer": "ipython3",
   "version": "3.10.8"
  }
 },
 "nbformat": 4,
 "nbformat_minor": 5
}
