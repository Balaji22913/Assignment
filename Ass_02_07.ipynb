{
 "cells": [
  {
   "cell_type": "markdown",
   "id": "5989bed2-0728-442b-81b3-5318e62050b2",
   "metadata": {},
   "source": [
    "Q1. You are writing code for a company. The requirement of the company is that you create a python\n",
    "function that will check whether the password entered by the user is correct or not. The function should\n",
    "take the password as input and return the string “Valid Password” if the entered password follows the\n",
    "below-given password guidelines else it should return “Invalid Password”."
   ]
  },
  {
   "cell_type": "code",
   "execution_count": 2,
   "id": "003f2038-c4d6-4070-a4b7-b10585b1b4b6",
   "metadata": {},
   "outputs": [],
   "source": [
    "def pass_check(s):\n",
    "    alp_u = 0\n",
    "    alp_l = 0\n",
    "    num = 0\n",
    "    char = 0\n",
    "    if len(s) > 10:\n",
    "        for i in range(len(s)):\n",
    "            if s[i].isalpha():\n",
    "                if s[i].isupper():\n",
    "                    alp_u += 1\n",
    "                elif s[i].islower():\n",
    "                    alp_l +=1\n",
    "            elif s[i].isnumeric():\n",
    "                num +=1\n",
    "            else:\n",
    "                char +=1\n",
    "                \n",
    "        if alp_u > 2 and alp_l > 2 and num > 1 and char > 3:\n",
    "            return 'Valid Password'\n",
    "        else:\n",
    "            return 'Invalid Password'\n",
    "    else:\n",
    "        return 'Invalid Password'\n",
    "                \n",
    "            "
   ]
  },
  {
   "cell_type": "code",
   "execution_count": 3,
   "id": "17934994-68d1-4363-b2ac-54dfb8b16f11",
   "metadata": {},
   "outputs": [
    {
     "data": {
      "text/plain": [
       "'Valid Password'"
      ]
     },
     "execution_count": 3,
     "metadata": {},
     "output_type": "execute_result"
    }
   ],
   "source": [
    "p = 'ASDFasdf1234@#$%'\n",
    "pass_check(p)"
   ]
  },
  {
   "cell_type": "code",
   "execution_count": null,
   "id": "362845ea-f06c-4a8d-9c79-ebf046e7e417",
   "metadata": {},
   "outputs": [],
   "source": []
  },
  {
   "cell_type": "code",
   "execution_count": null,
   "id": "aaecb3f2-fa76-4220-9e55-337305aeef2d",
   "metadata": {},
   "outputs": [],
   "source": []
  },
  {
   "cell_type": "code",
   "execution_count": null,
   "id": "8d38336b-8033-4826-853e-59ecfbbeddb7",
   "metadata": {},
   "outputs": [],
   "source": []
  },
  {
   "cell_type": "markdown",
   "id": "6d581499-dd85-4a73-90cb-4c224ca97d83",
   "metadata": {},
   "source": [
    "Solve the below-given questions using at least one of the following:\n",
    "1. Lambda function\n",
    "2. Filter function\n",
    "3. Map function\n",
    "4. List Comprehension"
   ]
  },
  {
   "cell_type": "markdown",
   "id": "fb8253c0-bf65-474f-84ae-45c4d0088443",
   "metadata": {},
   "source": [
    "Check if the string starts with a particular letter"
   ]
  },
  {
   "cell_type": "code",
   "execution_count": 29,
   "id": "d8a6950d-34d5-4b5b-a6c9-303768fe3219",
   "metadata": {},
   "outputs": [],
   "source": [
    "a = lambda s,l : True if s[0].lower() == l.lower() else False"
   ]
  },
  {
   "cell_type": "code",
   "execution_count": 33,
   "id": "f22315e7-3cd0-4be5-b0a5-299f46430f5e",
   "metadata": {},
   "outputs": [
    {
     "data": {
      "text/plain": [
       "True"
      ]
     },
     "execution_count": 33,
     "metadata": {},
     "output_type": "execute_result"
    }
   ],
   "source": [
    "a('Pwskills','p')"
   ]
  },
  {
   "cell_type": "code",
   "execution_count": null,
   "id": "bd27ad95-5557-434d-854f-caed36695a57",
   "metadata": {},
   "outputs": [],
   "source": []
  },
  {
   "cell_type": "markdown",
   "id": "debce867-7317-4db3-a9cb-a72ff3c0e147",
   "metadata": {},
   "source": [
    "Check if the string is numeric"
   ]
  },
  {
   "cell_type": "code",
   "execution_count": 90,
   "id": "b41a9cf8-dc69-4013-9cfb-ed2012d4e17e",
   "metadata": {},
   "outputs": [
    {
     "data": {
      "text/plain": [
       "[False, False, True, True, True, False, False]"
      ]
     },
     "execution_count": 90,
     "metadata": {},
     "output_type": "execute_result"
    }
   ],
   "source": [
    "s = 'as123df'\n",
    "[i.isnumeric() for i in s]"
   ]
  },
  {
   "cell_type": "code",
   "execution_count": null,
   "id": "c7bbcd45-efef-43ca-a43e-fb57fa2ced02",
   "metadata": {},
   "outputs": [],
   "source": []
  },
  {
   "cell_type": "markdown",
   "id": "13ecbb05-d1c6-4b83-afc3-73b84930380b",
   "metadata": {},
   "source": [
    "Sort a list of tuples having fruit names and their quantity. [(\"mango\",99),(\"orange\",80), (\"grapes\", 1000)]"
   ]
  },
  {
   "cell_type": "code",
   "execution_count": 71,
   "id": "5fd2c1aa-7f0f-40db-b935-0895eaa7956d",
   "metadata": {},
   "outputs": [
    {
     "data": {
      "text/plain": [
       "[('orange', 80), ('mango', 99), ('grapes', 1000)]"
      ]
     },
     "execution_count": 71,
     "metadata": {},
     "output_type": "execute_result"
    }
   ],
   "source": [
    "l = [(\"mango\",99),(\"orange\",80), (\"grapes\", 1000)]\n",
    "l.sort(key = lambda x: x[1])\n",
    "l"
   ]
  },
  {
   "cell_type": "code",
   "execution_count": null,
   "id": "28ce6118-28e4-455a-931a-be72154b4ee5",
   "metadata": {},
   "outputs": [],
   "source": []
  },
  {
   "cell_type": "markdown",
   "id": "0368bfe6-e7c2-4292-838b-16d815d5550f",
   "metadata": {},
   "source": [
    "Find the squares of numbers from 1 to 10"
   ]
  },
  {
   "cell_type": "code",
   "execution_count": 72,
   "id": "2a5f5388-2e4d-4e5f-82f7-961d64654e4f",
   "metadata": {},
   "outputs": [
    {
     "data": {
      "text/plain": [
       "[1, 4, 9, 16, 25, 36, 49, 64, 81, 100]"
      ]
     },
     "execution_count": 72,
     "metadata": {},
     "output_type": "execute_result"
    }
   ],
   "source": [
    "[i**2 for i in range(1,11)]"
   ]
  },
  {
   "cell_type": "code",
   "execution_count": null,
   "id": "a821027f-b0b0-4b33-83f1-0c2f6ec8998f",
   "metadata": {},
   "outputs": [],
   "source": []
  },
  {
   "cell_type": "markdown",
   "id": "289d55f5-3967-4986-a334-d324d4b41ef6",
   "metadata": {},
   "source": [
    "Find the cube root of numbers from 1 to 10"
   ]
  },
  {
   "cell_type": "code",
   "execution_count": 73,
   "id": "c9212eec-cde3-4085-9001-8c80b8cdae46",
   "metadata": {},
   "outputs": [
    {
     "data": {
      "text/plain": [
       "[1, 8, 27, 64, 125, 216, 343, 512, 729, 1000]"
      ]
     },
     "execution_count": 73,
     "metadata": {},
     "output_type": "execute_result"
    }
   ],
   "source": [
    "[i**3 for i in range(1,11)]"
   ]
  },
  {
   "cell_type": "code",
   "execution_count": null,
   "id": "c1159a9e-6f5b-4667-bd13-c866a64c09c9",
   "metadata": {},
   "outputs": [],
   "source": []
  },
  {
   "cell_type": "markdown",
   "id": "90eff695-1b3c-46b3-a680-a983ab13bd40",
   "metadata": {},
   "source": [
    "Check if a given number is even"
   ]
  },
  {
   "cell_type": "code",
   "execution_count": 80,
   "id": "02d0130b-469f-4368-badf-356d1948175d",
   "metadata": {},
   "outputs": [],
   "source": [
    "w = lambda x: True if x % 2 == 0 else False"
   ]
  },
  {
   "cell_type": "code",
   "execution_count": 81,
   "id": "2d86db86-4ef6-496e-9c1b-059d3bd3c5be",
   "metadata": {},
   "outputs": [
    {
     "data": {
      "text/plain": [
       "True"
      ]
     },
     "execution_count": 81,
     "metadata": {},
     "output_type": "execute_result"
    }
   ],
   "source": [
    "w(22)"
   ]
  },
  {
   "cell_type": "code",
   "execution_count": null,
   "id": "24f0b17a-a513-4de5-a8d9-1e248174c076",
   "metadata": {},
   "outputs": [],
   "source": []
  },
  {
   "cell_type": "markdown",
   "id": "de4f611f-401e-44f3-9f3a-88910660505b",
   "metadata": {},
   "source": [
    "Filter odd numbers from the given list.  \n",
    "[1,2,3,4,5,6,7,8,9,10]"
   ]
  },
  {
   "cell_type": "code",
   "execution_count": 82,
   "id": "6e484c00-8319-439a-add3-75e1358e3993",
   "metadata": {},
   "outputs": [
    {
     "data": {
      "text/plain": [
       "[1, 3, 5, 7, 9]"
      ]
     },
     "execution_count": 82,
     "metadata": {},
     "output_type": "execute_result"
    }
   ],
   "source": [
    "r = [1,2,3,4,5,6,7,8,9,10]\n",
    "list(filter(lambda x : x % 2 != 0, r))"
   ]
  },
  {
   "cell_type": "markdown",
   "id": "3c5f9432-1462-4868-9fb9-44f62c49aa66",
   "metadata": {},
   "source": [
    "Sort a list of integers into positive and negative integers lists.  \n",
    "[1,2,3,4,5,6,-1,-2,-3,-4,-5,0]"
   ]
  },
  {
   "cell_type": "code",
   "execution_count": 85,
   "id": "d29e0a78-2770-42a2-b982-94317376701a",
   "metadata": {},
   "outputs": [],
   "source": [
    "g = [1,2,3,4,5,6,-1,-2,-3,-4,-5,0]\n",
    "positive = list(filter(lambda x : x > 0 , g))\n",
    "negative = list(filter(lambda x : x < 0 , g))"
   ]
  },
  {
   "cell_type": "code",
   "execution_count": 86,
   "id": "675d420f-1139-4001-8a0f-49666fad49ca",
   "metadata": {},
   "outputs": [
    {
     "data": {
      "text/plain": [
       "[1, 2, 3, 4, 5, 6]"
      ]
     },
     "execution_count": 86,
     "metadata": {},
     "output_type": "execute_result"
    }
   ],
   "source": [
    "positive"
   ]
  },
  {
   "cell_type": "code",
   "execution_count": 87,
   "id": "602d79df-de78-4861-968b-27e12cee7e9e",
   "metadata": {},
   "outputs": [
    {
     "data": {
      "text/plain": [
       "[-1, -2, -3, -4, -5]"
      ]
     },
     "execution_count": 87,
     "metadata": {},
     "output_type": "execute_result"
    }
   ],
   "source": [
    "negative"
   ]
  },
  {
   "cell_type": "code",
   "execution_count": null,
   "id": "90fc6996-d0b1-408c-8ecb-ec745138fb35",
   "metadata": {},
   "outputs": [],
   "source": []
  }
 ],
 "metadata": {
  "kernelspec": {
   "display_name": "Python 3 (ipykernel)",
   "language": "python",
   "name": "python3"
  },
  "language_info": {
   "codemirror_mode": {
    "name": "ipython",
    "version": 3
   },
   "file_extension": ".py",
   "mimetype": "text/x-python",
   "name": "python",
   "nbconvert_exporter": "python",
   "pygments_lexer": "ipython3",
   "version": "3.10.8"
  }
 },
 "nbformat": 4,
 "nbformat_minor": 5
}
