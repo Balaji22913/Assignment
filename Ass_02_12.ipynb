{
 "cells": [
  {
   "cell_type": "markdown",
   "id": "ed434fc8-ef30-41dc-9939-dd0356834e41",
   "metadata": {},
   "source": [
    "1) What is an Exception in python? Write the differene between Exceptions and Syntax error."
   ]
  },
  {
   "cell_type": "markdown",
   "id": "236c20ee-8b16-4697-b822-2e2993ead8f6",
   "metadata": {},
   "source": [
    "An exception is an event, which occurs during the execution of a program that disrupts the normal flow of the program's instructions. In general, when a Python script encounters a situation that it cannot cope with, it raises an exception. An exception is a Python object that represents an error.\n",
    "The error implies a problem that mostly arises due to the shortage of system resources. On the other hand, the exceptions occur during runtime and compile time."
   ]
  },
  {
   "cell_type": "markdown",
   "id": "ee6fc79b-8da0-44ab-bb3f-1d01a3b5e03f",
   "metadata": {},
   "source": [
    "2) What happens when an exception is not handled? Explain with an example."
   ]
  },
  {
   "cell_type": "markdown",
   "id": "cf784057-3f4b-47e6-aa62-900654e18a45",
   "metadata": {},
   "source": [
    "When the exception is not handeled, the error is shown and the program stops running.\n",
    "For example,"
   ]
  },
  {
   "cell_type": "code",
   "execution_count": 1,
   "id": "540649bb-0c8c-4b9f-be7c-8da32cdd3d7b",
   "metadata": {},
   "outputs": [
    {
     "ename": "ZeroDivisionError",
     "evalue": "division by zero",
     "output_type": "error",
     "traceback": [
      "\u001b[0;31m---------------------------------------------------------------------------\u001b[0m",
      "\u001b[0;31mZeroDivisionError\u001b[0m                         Traceback (most recent call last)",
      "Cell \u001b[0;32mIn[1], line 2\u001b[0m\n\u001b[1;32m      1\u001b[0m a \u001b[38;5;241m=\u001b[39m \u001b[38;5;241m10\u001b[39m\n\u001b[0;32m----> 2\u001b[0m \u001b[43ma\u001b[49m\u001b[38;5;241;43m/\u001b[39;49m\u001b[38;5;241;43m0\u001b[39;49m\n\u001b[1;32m      3\u001b[0m \u001b[38;5;28mprint\u001b[39m(\u001b[38;5;124m'\u001b[39m\u001b[38;5;124mpwskills\u001b[39m\u001b[38;5;124m'\u001b[39m)\n",
      "\u001b[0;31mZeroDivisionError\u001b[0m: division by zero"
     ]
    }
   ],
   "source": [
    "a = 10\n",
    "a/0\n",
    "print('pwskills')"
   ]
  },
  {
   "cell_type": "markdown",
   "id": "b09e5de1-2532-40b9-961a-bf357559dcb4",
   "metadata": {},
   "source": [
    "3) Which Python statements are used to catch and handle exceptions? Explain with an example."
   ]
  },
  {
   "cell_type": "markdown",
   "id": "99447a45-60eb-4e30-9dd3-7e82ca01b28f",
   "metadata": {},
   "source": [
    "Try and except is used."
   ]
  },
  {
   "cell_type": "code",
   "execution_count": 2,
   "id": "96348876-2bb8-454b-b6d4-5bd512766b07",
   "metadata": {},
   "outputs": [
    {
     "name": "stdout",
     "output_type": "stream",
     "text": [
      "division by zero\n"
     ]
    }
   ],
   "source": [
    "try:\n",
    "    10/0\n",
    "except ZeroDivisionError as e:\n",
    "    print(e)"
   ]
  },
  {
   "cell_type": "markdown",
   "id": "e8e5456a-11ec-4862-9b35-a02a22d617ea",
   "metadata": {},
   "source": [
    "4) Explain with an example:\n",
    "\n",
    "a. try and else\n",
    "\n",
    "b. finally\n",
    "\n",
    "c. raise"
   ]
  },
  {
   "cell_type": "markdown",
   "id": "2b286125-2a53-4a82-aa39-38b01c03fd8d",
   "metadata": {},
   "source": [
    "a) try checks for error and else is executed only is try is executed without error.\n",
    "\n",
    "b) finally is executed in all conditions.\n",
    "\n",
    "c) raise is used to raise the error."
   ]
  },
  {
   "cell_type": "markdown",
   "id": "d6016aee-1cd0-4cb1-b22e-2bbb1e198280",
   "metadata": {},
   "source": [
    "5) What are Custom Exceptions in python? Why do we need Custom Exceptions? Explain with an example."
   ]
  },
  {
   "cell_type": "markdown",
   "id": "998c8df6-71f1-4580-a847-fa915c628b78",
   "metadata": {},
   "source": [
    "Custom Exceptions are errors that are not defined by python and we need custom exceptions to improve our code and show error messages in our custom ways."
   ]
  },
  {
   "cell_type": "markdown",
   "id": "7654cca4-a37a-4a79-8e14-f3f3cd93d1ba",
   "metadata": {},
   "source": [
    "6) Create a custom exception class. Use this class to handle an exception."
   ]
  },
  {
   "cell_type": "code",
   "execution_count": 3,
   "id": "52de772d-a403-4d32-8cfc-006dfa4f3ed3",
   "metadata": {},
   "outputs": [],
   "source": [
    "class capture(Exception):\n",
    "    \n",
    "    def __init__(self , msg) : \n",
    "        self.msg = msg"
   ]
  },
  {
   "cell_type": "code",
   "execution_count": 11,
   "id": "4973da4e-e67f-4534-b054-d4b379ea6480",
   "metadata": {},
   "outputs": [],
   "source": [
    "def capture(marks) : \n",
    "    if marks < 0 :\n",
    "        raise capture(\"entered marks is negative \" )\n",
    "    elif marks > 100 : \n",
    "        raise capture(\"enterd marks is out of range \" )\n",
    "    else :\n",
    "        print(\"marks is valid\" )"
   ]
  },
  {
   "cell_type": "code",
   "execution_count": 13,
   "id": "df0fe9c3-3583-4686-8863-d041236c2825",
   "metadata": {},
   "outputs": [
    {
     "name": "stdin",
     "output_type": "stream",
     "text": [
      "enter your marks 55\n"
     ]
    },
    {
     "name": "stdout",
     "output_type": "stream",
     "text": [
      "marks is valid\n"
     ]
    }
   ],
   "source": [
    "try :\n",
    "    marks = int(input(\"enter your marks\" ))\n",
    "    capture(marks)\n",
    "except capture as e :\n",
    "    print(e)"
   ]
  },
  {
   "cell_type": "code",
   "execution_count": null,
   "id": "0c7b07b9-f633-4e0f-8888-6d0b46fdb10c",
   "metadata": {},
   "outputs": [],
   "source": []
  }
 ],
 "metadata": {
  "kernelspec": {
   "display_name": "Python 3 (ipykernel)",
   "language": "python",
   "name": "python3"
  },
  "language_info": {
   "codemirror_mode": {
    "name": "ipython",
    "version": 3
   },
   "file_extension": ".py",
   "mimetype": "text/x-python",
   "name": "python",
   "nbconvert_exporter": "python",
   "pygments_lexer": "ipython3",
   "version": "3.10.8"
  }
 },
 "nbformat": 4,
 "nbformat_minor": 5
}
