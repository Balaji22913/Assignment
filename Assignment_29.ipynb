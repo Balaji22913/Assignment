{
 "cells": [
  {
   "cell_type": "markdown",
   "id": "1085cf2f-1bd6-4856-a7bb-01148ef92dcb",
   "metadata": {},
   "source": [
    "#Who developed Python Programming Language?"
   ]
  },
  {
   "cell_type": "markdown",
   "id": "a3d85108-bfaf-405f-8619-a75d471daf14",
   "metadata": {},
   "source": [
    "Guido van Rossum"
   ]
  },
  {
   "cell_type": "markdown",
   "id": "20a79a64-5037-4a43-885e-de4f00f2effe",
   "metadata": {},
   "source": [
    "#Which type of Programming does Python support?"
   ]
  },
  {
   "cell_type": "markdown",
   "id": "8cb656ed-732d-41a8-8eda-e5846625bc18",
   "metadata": {},
   "source": [
    "Object oriented porframming and structured programming"
   ]
  },
  {
   "cell_type": "markdown",
   "id": "92ae12a3-7b88-4bc8-a6ce-926069983f6c",
   "metadata": {},
   "source": [
    "#Is Python case sensitive when dealing with identifiers?"
   ]
  },
  {
   "cell_type": "markdown",
   "id": "75ec274d-e971-4a0b-b585-50405ac39c5e",
   "metadata": {},
   "source": [
    "Yes"
   ]
  },
  {
   "cell_type": "markdown",
   "id": "66fa97da-0a3d-49a6-b18c-8b14e15813e4",
   "metadata": {},
   "source": [
    "#What is the correct extension of the Python file?"
   ]
  },
  {
   "cell_type": "markdown",
   "id": "0e285c5f-df7b-41f8-8a0d-aee9472421fc",
   "metadata": {},
   "source": [
    ".py"
   ]
  },
  {
   "cell_type": "markdown",
   "id": "812e9424-c93d-4578-ab3d-1b483d860461",
   "metadata": {},
   "source": [
    "#Is Python code compiled or interpreted?"
   ]
  },
  {
   "cell_type": "markdown",
   "id": "a55076bf-1dda-4a08-9826-c04c6759cddf",
   "metadata": {},
   "source": [
    "interpreted"
   ]
  },
  {
   "cell_type": "markdown",
   "id": "be1fabee-fa53-41f1-8fad-da1ba3c2b881",
   "metadata": {},
   "source": [
    "#Name a few blocks of code used to define in Python language?"
   ]
  },
  {
   "cell_type": "markdown",
   "id": "64d6f712-eee8-4eed-a245-813122ff11fb",
   "metadata": {},
   "source": [
    "a module, a function body and a class defination"
   ]
  },
  {
   "cell_type": "markdown",
   "id": "c191af85-cf04-4d76-901d-9ce4e8d4ff97",
   "metadata": {},
   "source": [
    "#State a character used to give single-line comments in Python?"
   ]
  },
  {
   "cell_type": "markdown",
   "id": "d2bcbf45-1f57-46e3-8e8e-bfa03bae3e8c",
   "metadata": {},
   "source": [
    "'#' hashtag"
   ]
  },
  {
   "cell_type": "markdown",
   "id": "c6b03a97-4169-4eb2-87ed-8d82d16b59f1",
   "metadata": {},
   "source": [
    "#Mention functions which can help us to find the version of python that we are currently working on?"
   ]
  },
  {
   "cell_type": "markdown",
   "id": "8ac743f7-23ba-4d46-a5a4-703efd5be738",
   "metadata": {},
   "source": [
    "sys.version"
   ]
  },
  {
   "cell_type": "markdown",
   "id": "cb58b69d-923a-40cb-85ff-d23fce5c86a2",
   "metadata": {},
   "source": [
    "#Python supports the creation of anonymous functions at runtime, using a construct called"
   ]
  },
  {
   "cell_type": "markdown",
   "id": "b9981729-5a13-4d10-8c93-e9f3eb20440e",
   "metadata": {},
   "source": [
    "lambda"
   ]
  },
  {
   "cell_type": "markdown",
   "id": "10e22f32-201b-426d-9c43-80d3688bccb9",
   "metadata": {},
   "source": [
    "#What does pip stand for python?"
   ]
  },
  {
   "cell_type": "markdown",
   "id": "ad430e5a-ad87-4bd8-b391-1f16928243f3",
   "metadata": {},
   "source": [
    "preferred installer program"
   ]
  },
  {
   "cell_type": "markdown",
   "id": "e2d417cd-04f6-4d33-bb3c-5bef60a86f34",
   "metadata": {},
   "source": [
    "#Mention a few built-in functions in python?"
   ]
  },
  {
   "cell_type": "markdown",
   "id": "29e81247-6dc9-4e7c-8c6a-4b4f1f2a565a",
   "metadata": {},
   "source": [
    "prit(), type(), input()"
   ]
  },
  {
   "cell_type": "markdown",
   "id": "7349df79-8c1b-4d63-9c29-578e080192ae",
   "metadata": {},
   "source": [
    "#What is the maximum possible length of an identifier in Python?"
   ]
  },
  {
   "cell_type": "markdown",
   "id": "2f0229de-bb12-4de0-8d7d-bb91038a4f45",
   "metadata": {},
   "source": [
    "79"
   ]
  },
  {
   "cell_type": "markdown",
   "id": "5d31a2a9-4844-4ba0-9685-9ad397980d4b",
   "metadata": {},
   "source": [
    "#What are the benefits of using Python?"
   ]
  },
  {
   "cell_type": "markdown",
   "id": "0c273c62-f071-4cc2-abd1-88f2f7f98c05",
   "metadata": {},
   "source": [
    "Python is commonly used for developing websites and software, task automation, data analysis, and data visualization. Since it's relatively easy to learn, Python has been adopted by many non-programmers such as accountants and scientists, for a variety of everyday tasks, like organizing finances."
   ]
  },
  {
   "cell_type": "markdown",
   "id": "5e1cafa7-7e9c-41a2-9596-4d43f0305a5c",
   "metadata": {},
   "source": [
    "#How is memory managed in Python?"
   ]
  },
  {
   "cell_type": "markdown",
   "id": "56a8e081-aeb7-48a1-b1b9-f77f6e6f378f",
   "metadata": {},
   "source": [
    "It is done by private heap containing all python objects and data structures."
   ]
  },
  {
   "cell_type": "markdown",
   "id": "20a4b542-ddcd-4ae3-82f5-fe75ca253b32",
   "metadata": {},
   "source": [
    "#How to install Python on Windows and set path variables?"
   ]
  },
  {
   "cell_type": "code",
   "execution_count": null,
   "id": "fb0e6c4c-7fef-4511-a375-16f2206f2a65",
   "metadata": {},
   "outputs": [],
   "source": []
  },
  {
   "cell_type": "markdown",
   "id": "86aa5b4c-992d-46d6-b836-a4ed56a26fbf",
   "metadata": {},
   "source": [
    "#is indentation required in python?"
   ]
  },
  {
   "cell_type": "markdown",
   "id": "b973a0d7-b5a0-4717-861d-45ab30f40452",
   "metadata": {},
   "source": [
    "yes"
   ]
  },
  {
   "cell_type": "code",
   "execution_count": null,
   "id": "0ddced81-61e7-4f7b-8c27-d61c85bb44ca",
   "metadata": {},
   "outputs": [],
   "source": []
  }
 ],
 "metadata": {
  "kernelspec": {
   "display_name": "Python 3 (ipykernel)",
   "language": "python",
   "name": "python3"
  },
  "language_info": {
   "codemirror_mode": {
    "name": "ipython",
    "version": 3
   },
   "file_extension": ".py",
   "mimetype": "text/x-python",
   "name": "python",
   "nbconvert_exporter": "python",
   "pygments_lexer": "ipython3",
   "version": "3.10.8"
  }
 },
 "nbformat": 4,
 "nbformat_minor": 5
}
